{
 "cells": [
  {
   "cell_type": "markdown",
   "id": "cbf197ef",
   "metadata": {},
   "source": [
    "# 创建Plugins"
   ]
  },
  {
   "cell_type": "code",
   "execution_count": 16,
   "id": "5f502096",
   "metadata": {},
   "outputs": [],
   "source": [
    "from semantic_kernel.functions import kernel_function\n",
    "from typing import Annotated\n",
    "\n",
    "class DestinationPlugin:\n",
    "    \"\"\"A List of Destinations for vacation.\"\"\"\n",
    "    \n",
    "    @kernel_function(description=\"Provides a list of of vacation destionations.\")\n",
    "    def get_destinations(self) -> Annotated[str, \"Returns the specials from the menu.\"]:\n",
    "        return \"\"\"\n",
    "        Paris, France\n",
    "        Tokyo, Japan\n",
    "        New York City, USA\n",
    "        Sydney, Australia\n",
    "        Cape Town, South Africa\n",
    "        Rome, Italy\n",
    "        Barcelona, Spain\n",
    "        Bali, Indonesia\n",
    "        Dubai, UAE\n",
    "        Santorini, Greece\n",
    "        \"\"\"\n",
    "    \n",
    "    @kernel_function(description=\"Provides the availability of a destination.\")\n",
    "    def get_availability(self, destination: Annotated[str, \"The destination to check availability for.\"]) -> Annotated[str, \"Returns the availability of the destination.\"]:\n",
    "        return \"\"\"\n",
    "        Paris - Unavailable\n",
    "        Tokyo - Available\n",
    "        New York City - Available\n",
    "        Sydney - Unavailable\n",
    "        Cape Town - Available\n",
    "        Rome - Unavailable\n",
    "        Barcelona - Unavailable\n",
    "        Bali - Available\n",
    "        Dubai - Unavailable\n",
    "        Santorini - Available\n",
    "        \"\"\""
   ]
  },
  {
   "cell_type": "code",
   "execution_count": 17,
   "id": "7a27d7bd",
   "metadata": {},
   "outputs": [],
   "source": [
    "import os\n",
    "from dotenv import load_dotenv\n",
    "from openai import AsyncOpenAI\n",
    "\n",
    "from semantic_kernel import Kernel\n",
    "from semantic_kernel.connectors.ai.open_ai import OpenAIChatCompletion\n",
    "\n",
    "load_dotenv()\n",
    "\n",
    "client = AsyncOpenAI(\n",
    "    api_key=os.getenv(\"GITHUB_TOKEN\"),\n",
    "    base_url=\"https://models.inference.ai.azure.com/\"\n",
    ")\n",
    "\n",
    "kernel = Kernel()\n",
    "kernel.add_plugin(plugin=DestinationPlugin(), plugin_name=\"destinations\")\n",
    "\n",
    "service_id = \"travel_agent\"\n",
    "\n",
    "chat_completion_service = OpenAIChatCompletion(\n",
    "    ai_model_id=\"gpt-4o-mini\",\n",
    "    service_id=service_id,\n",
    "    async_client=client\n",
    ")\n",
    "\n",
    "kernel.add_service(chat_completion_service)"
   ]
  },
  {
   "cell_type": "markdown",
   "id": "675df256",
   "metadata": {},
   "source": [
    "# 设置Funciton Choice Behavior"
   ]
  },
  {
   "cell_type": "code",
   "execution_count": 18,
   "id": "3ecf388f",
   "metadata": {},
   "outputs": [],
   "source": [
    "from semantic_kernel.connectors.ai import FunctionChoiceBehavior\n",
    "settings = kernel.get_prompt_execution_settings_from_service_id(service_id=service_id)\n",
    "settings.function_choice_behavior = FunctionChoiceBehavior.Auto()"
   ]
  },
  {
   "cell_type": "markdown",
   "id": "2ea954fa",
   "metadata": {},
   "source": [
    "# 创建Agent"
   ]
  },
  {
   "cell_type": "code",
   "execution_count": 19,
   "id": "2fa6d4b6",
   "metadata": {},
   "outputs": [],
   "source": [
    "from semantic_kernel.functions import KernelArguments\n",
    "from semantic_kernel.agents import ChatCompletionAgent\n",
    "\n",
    "AGENT_NAME  = \"TravelAgent\"\n",
    "AGENT_INSTRCTIONs = \"Answer questions about the travel destinations and their availability.\"\n",
    "\n",
    "trave_agent = ChatCompletionAgent(\n",
    "    service_id=service_id,\n",
    "    kernel=kernel,\n",
    "    name=AGENT_NAME,\n",
    "    instructions=AGENT_INSTRCTIONs,\n",
    "    arguments=KernelArguments(settings=settings)\n",
    ")"
   ]
  },
  {
   "cell_type": "markdown",
   "id": "16e61b0e",
   "metadata": {},
   "source": [
    "# 运行Agent"
   ]
  },
  {
   "cell_type": "code",
   "execution_count": 20,
   "id": "a824eb42",
   "metadata": {},
   "outputs": [
    {
     "data": {
      "text/html": [
       "<div style='margin-bottom:10px'><div style='font-weight:bold'>User:</div><div style='margin-left:20px'>What destinations are available?</div></div><div style='margin-bottom:10px'><details><summary style='cursor:pointer; font-weight:bold; color:#0066cc;'>Function Calls (click to expand)</summary><div style='margin:10px; padding:10px; background-color:#f8f8f8; border:1px solid #ddd; border-radius:4px; white-space:pre-wrap; font-size:14px; color:#333;'>Calling: get_destinations()<br>Calling: ({})<br>Result: \n",
       "        Paris, France\n",
       "        Tokyo, Japan\n",
       "        New York City, USA\n",
       "        Sydney, Australia\n",
       "        Cape Town, South Africa\n",
       "        Rome, Italy\n",
       "        Barcelona, Spain\n",
       "        Bali, Indonesia\n",
       "        Dubai, UAE\n",
       "        Santorini, Greece\n",
       "        </div></details></div><div style='margin-bottom:20px'><div style='font-weight:bold'>TravelAgent:</div><div style='margin-left:20px; white-space:pre-wrap'>The available destinations are:\n",
       "\n",
       "1. Paris, France2. Tokyo, Japan3. New York City, USA4. Sydney, Australia5. Cape Town, South Africa6. Rome, Italy7. Barcelona, Spain8. Bali, Indonesia9. Dubai, UAE10. Santorini, Greece</div></div><hr>"
      ],
      "text/plain": [
       "<IPython.core.display.HTML object>"
      ]
     },
     "metadata": {},
     "output_type": "display_data"
    },
    {
     "data": {
      "text/html": [
       "<div style='margin-bottom:10px'><div style='font-weight:bold'>User:</div><div style='margin-left:20px'>Is Barcelona available?</div></div><div style='margin-bottom:10px'><details><summary style='cursor:pointer; font-weight:bold; color:#0066cc;'>Function Calls (click to expand)</summary><div style='margin:10px; padding:10px; background-color:#f8f8f8; border:1px solid #ddd; border-radius:4px; white-space:pre-wrap; font-size:14px; color:#333;'>Calling: get_availability()<br>Calling: ({\")<br>Calling: (destination)<br>Calling: (\":\")<br>Calling: (Barcelona)<br>Calling: (,)<br>Calling: ( Spain)<br>Calling: (\"})<br>Result: \n",
       "        Paris - Unavailable\n",
       "        Tokyo - Available\n",
       "        New York City - Available\n",
       "        Sydney - Unavailable\n",
       "        Cape Town - Available\n",
       "        Rome - Unavailable\n",
       "        Barcelona - Unavailable\n",
       "        Bali - Available\n",
       "        Dubai - Unavailable\n",
       "        Santorini - Available\n",
       "        </div></details></div><div style='margin-bottom:20px'><div style='font-weight:bold'>TravelAgent:</div><div style='margin-left:20px; white-space:pre-wrap'>Barcelona is currently unavailable. If you're interested in any other destinations, please let me know!</div></div><hr>"
      ],
      "text/plain": [
       "<IPython.core.display.HTML object>"
      ]
     },
     "metadata": {},
     "output_type": "display_data"
    },
    {
     "data": {
      "text/html": [
       "<div style='margin-bottom:10px'><div style='font-weight:bold'>User:</div><div style='margin-left:20px'>Are there any vacation destinations available not in Europe?</div></div><div style='margin-bottom:20px'><div style='font-weight:bold'>TravelAgent:</div><div style='margin-left:20px; white-space:pre-wrap'>The available vacation destinations outside of Europe are:\n",
       "\n",
       "1. Tokyo, Japan2. New York City, USA3. Sydney, Australia4. Cape Town, South Africa5. Bali, Indonesia6. Dubai, UAELet me know if you need more information about any of these destinations!</div></div><hr>"
      ],
      "text/plain": [
       "<IPython.core.display.HTML object>"
      ]
     },
     "metadata": {},
     "output_type": "display_data"
    }
   ],
   "source": [
    "from IPython.display import display, HTML\n",
    "\n",
    "from semantic_kernel.contents import ChatHistory, FunctionCallContent, FunctionResultContent\n",
    "\n",
    "async def main():\n",
    "    chat_history = ChatHistory()\n",
    "\n",
    "    user_inputs = [\n",
    "        \"What destinations are available?\",\n",
    "        \"Is Barcelona available?\",\n",
    "        \"Are there any vacation destinations available not in Europe?\",\n",
    "    ]\n",
    "\n",
    "    for user_input in user_inputs:\n",
    "        chat_history.add_user_message(user_input)\n",
    "\n",
    "        html_output = f\"<div style='margin-bottom:10px'>\"\n",
    "        html_output += f\"<div style='font-weight:bold'>User:</div>\"\n",
    "        html_output += f\"<div style='margin-left:20px'>{user_input}</div>\"\n",
    "        html_output += f\"</div>\"\n",
    "\n",
    "        agent_name: str | None = None\n",
    "        full_response = \"\"\n",
    "        function_calls = []\n",
    "\n",
    "        async for content in trave_agent.invoke_stream(history=chat_history):\n",
    "            if not agent_name and hasattr(content, \"name\"):\n",
    "                agent_name = content.name\n",
    "            \n",
    "            for item in content.items:\n",
    "                if isinstance(item, FunctionCallContent):\n",
    "                    call_info = f\"Calling: {item.function_name}({item.arguments})\"\n",
    "                    function_calls.append(call_info)\n",
    "                elif isinstance(item, FunctionResultContent):\n",
    "                    result_info = f\"Result: {item.result}\"\n",
    "                    function_calls.append(result_info)\n",
    "            \n",
    "            if(hasattr(content, \"content\") and \n",
    "               content.content and \n",
    "               content.content.strip() and \n",
    "               not any(isinstance(item, (FunctionCallContent, FunctionResultContent)) for item in content.items)):\n",
    "                full_response += content.content\n",
    "            \n",
    "            # Add function calls to HTML if any occurred\n",
    "        if function_calls:\n",
    "            html_output += f\"<div style='margin-bottom:10px'>\"\n",
    "            html_output += f\"<details>\"\n",
    "            html_output += f\"<summary style='cursor:pointer; font-weight:bold; color:#0066cc;'>Function Calls (click to expand)</summary>\"\n",
    "            html_output += f\"<div style='margin:10px; padding:10px; background-color:#f8f8f8; border:1px solid #ddd; border-radius:4px; white-space:pre-wrap; font-size:14px; color:#333;'>\"\n",
    "            html_output += \"<br>\".join(function_calls)\n",
    "            html_output += f\"</div></details></div>\"\n",
    "\n",
    "        # Add agent response to HTML\n",
    "        html_output += f\"<div style='margin-bottom:20px'>\"\n",
    "        html_output += f\"<div style='font-weight:bold'>{agent_name or 'Assistant'}:</div>\"\n",
    "        html_output += f\"<div style='margin-left:20px; white-space:pre-wrap'>{full_response}</div>\"\n",
    "        html_output += f\"</div>\"\n",
    "        html_output += \"<hr>\"\n",
    "\n",
    "        # Display formatted HTML\n",
    "        display(HTML(html_output))\n",
    "\n",
    "await main()"
   ]
  }
 ],
 "metadata": {
  "kernelspec": {
   "display_name": "agentLearning",
   "language": "python",
   "name": "python3"
  },
  "language_info": {
   "codemirror_mode": {
    "name": "ipython",
    "version": 3
   },
   "file_extension": ".py",
   "mimetype": "text/x-python",
   "name": "python",
   "nbconvert_exporter": "python",
   "pygments_lexer": "ipython3",
   "version": "3.12.9"
  }
 },
 "nbformat": 4,
 "nbformat_minor": 5
}
